{
 "cells": [
  {
   "cell_type": "markdown",
   "metadata": {},
   "source": [
    "#### <u>Question 1"
   ]
  },
  {
   "cell_type": "markdown",
   "metadata": {},
   "source": [
    "Disply the following sentence in bold font face <br>\n",
    "\"This is first lab of Applied Computational Statics\"\n"
   ]
  },
  {
   "cell_type": "markdown",
   "metadata": {},
   "source": [
    "ANS:-\n",
    "\n",
    "**This is fisrt lab of Applied Computational Statics**,<br>\n",
    "Clue: Using double asterisk mark both side -**bold text**"
   ]
  },
  {
   "cell_type": "markdown",
   "metadata": {},
   "source": [
    "#### <u>Question 2"
   ]
  },
  {
   "cell_type": "markdown",
   "metadata": {},
   "source": [
    "Recreate the following bullet points in  Jupyter notebook markdown cell:<br>\n",
    "markdown cell : markdown <br>\n",
    "code cell: Python code <br>\n",
    "Subject: Statistics "
   ]
  },
  {
   "cell_type": "markdown",
   "metadata": {},
   "source": [
    "ANS-\n",
    "- **Markdown cell**: markdown  \n",
    "- **Code cell**: Python code  \n",
    "- **Subject**: Statistics\n"
   ]
  },
  {
   "cell_type": "markdown",
   "metadata": {},
   "source": [
    "#### <u>Question 3"
   ]
  },
  {
   "cell_type": "markdown",
   "metadata": {},
   "source": [
    "**Run the following code in two different Jupyter notebook cells. Run one cell as a code cell. Run the other cell as a Markdown cell. Why is the output different?**"
   ]
  },
  {
   "cell_type": "code",
   "execution_count": 3,
   "metadata": {},
   "outputs": [
    {
     "name": "stdout",
     "output_type": "stream",
     "text": [
      "The Northcap University\n"
     ]
    }
   ],
   "source": [
    "#using print() function \n",
    "print(\"The Northcap University\")\n"
   ]
  },
  {
   "cell_type": "markdown",
   "metadata": {},
   "source": [
    "#using print() function \n",
    "print(\"The Northcap University\")\n"
   ]
  },
  {
   "cell_type": "markdown",
   "metadata": {},
   "source": [
    "ANS:\n",
    "\n",
    "-When we use cell as code it execute the code and give us the output as `'The Northcap University'`\n",
    "whereas when we use the cell as markdown it doesn't execute anything as it use for formatting text only\n",
    "\n",
    "\n"
   ]
  },
  {
   "cell_type": "markdown",
   "metadata": {},
   "source": [
    "#### <u>Question 4"
   ]
  },
  {
   "cell_type": "markdown",
   "metadata": {},
   "source": [
    "**Use *float()* to create a number from a string like '12.34'. Make sure the result is really a number!**"
   ]
  },
  {
   "cell_type": "code",
   "execution_count": 9,
   "metadata": {},
   "outputs": [
    {
     "name": "stdout",
     "output_type": "stream",
     "text": [
      "12.34\n",
      "<class 'float'>\n"
     ]
    }
   ],
   "source": [
    "#As '12.34' is already in string type we use float() function to convert string to float\n",
    "#this is explicit conversion (also known as type casting).\n",
    "num = float('12.34')\n",
    "print(num)  # Output: 12.34\n",
    "print(type(num))  # Checking the data type to confirm it's a number\n"
   ]
  },
  {
   "cell_type": "markdown",
   "metadata": {},
   "source": [
    "#### <u>Question 5"
   ]
  },
  {
   "cell_type": "markdown",
   "metadata": {},
   "source": [
    "Write a simple Python program that displays the following **powers of 2**, one per line: $$2^1, 2^2, 2^3, 2^4, 2^5, 2^6, 2^7, 2^8$$"
   ]
  },
  {
   "cell_type": "code",
   "execution_count": 8,
   "metadata": {},
   "outputs": [
    {
     "name": "stdout",
     "output_type": "stream",
     "text": [
      "2^1 = 2\n",
      "2^2 = 4\n",
      "2^3 = 8\n",
      "2^4 = 16\n",
      "2^5 = 32\n",
      "2^6 = 64\n",
      "2^7 = 128\n",
      "2^8 = 256\n"
     ]
    }
   ],
   "source": [
    "for i in range(1, 9):  # Loop from 1 to 8\n",
    "  print(f\"2^{i} = {2**i}\")  # Calculate and display power of 2\n",
    "\n"
   ]
  },
  {
   "cell_type": "markdown",
   "metadata": {},
   "source": [
    "#### <u>Question 6\n"
   ]
  },
  {
   "cell_type": "markdown",
   "metadata": {},
   "source": [
    "**Write a Python program that allows the user to enter any integer value, and displays the value of 2 raised to that power. Your program should function as shown below.**\n",
    "\n",
    "What power of two? 10\n",
    "\n",
    "Two to the power of 10 is 1024"
   ]
  },
  {
   "cell_type": "code",
   "execution_count": 10,
   "metadata": {},
   "outputs": [
    {
     "name": "stdin",
     "output_type": "stream",
     "text": [
      "What power of two?  10\n"
     ]
    },
    {
     "name": "stdout",
     "output_type": "stream",
     "text": [
      "Two to the power of 10 is 1024\n"
     ]
    }
   ],
   "source": [
    "# Ask the user for input\n",
    "power = int(input(\"What power of two? \"))\n",
    "\n",
    "# Calculate 2 raised to the given power\n",
    "result = 2 ** power\n",
    "\n",
    "# Display the result\n",
    "print(f\"Two to the power of {power} is {result}\")\n"
   ]
  },
  {
   "cell_type": "markdown",
   "metadata": {},
   "source": [
    "#### <u>Question 7\n"
   ]
  },
  {
   "cell_type": "markdown",
   "metadata": {},
   "source": [
    "**Write a python program that prompt the user to enter a list of numbers and returns the index of the smallest element in a list of integers.**\n",
    "\n",
    "**If the number of occurrence of smallest element is greater than 1, return the smallest index.**"
   ]
  },
  {
   "cell_type": "code",
   "execution_count": 15,
   "metadata": {},
   "outputs": [
    {
     "name": "stdin",
     "output_type": "stream",
     "text": [
      "Enter numbers separated by spaces:  2 8 3 5 8 954 3 0 3\n"
     ]
    },
    {
     "name": "stdout",
     "output_type": "stream",
     "text": [
      "The smallest element is at index 7\n"
     ]
    }
   ],
   "source": [
    "# Get input from the user\n",
    "numbers = list(map(int, input(\"Enter numbers separated by spaces: \").split()))\n",
    "\n",
    "# Find the smallest number and its index\n",
    "min_index = numbers.index(min(numbers))\n",
    "\n",
    "# Display the result\n",
    "print(f\"The smallest element is at index {min_index}\")\n"
   ]
  },
  {
   "cell_type": "markdown",
   "metadata": {},
   "source": [
    "#### <u>Question 8\n",
    "\n"
   ]
  },
  {
   "cell_type": "markdown",
   "metadata": {},
   "source": [
    "**Losing Your Head over Chess**\n",
    "\n",
    "The game of chess is generally believed to have been invented in India in the sixth century for a ruling king by one of his subjects. The king was supposedly very delighted with the game and asked the subject what he wanted in return. The subject, being clever, asked for one grain of wheat on the first square, two grains of wheat on the second square, four grains of wheat on the third square, and so forth, doubling the amount on each next square. The king thought that this was a modest reward for such an invention. However, the total amount of wheat would have been more than 1,000 times the current world production.\n",
    "\n",
    "**Develop and test a Python program that calculates how much wheat this would be in pounds, using the fact that a grain of wheat weighs approximately $1/7,000$ of a pound.**"
   ]
  },
  {
   "cell_type": "code",
   "execution_count": 28,
   "metadata": {},
   "outputs": [
    {
     "name": "stdout",
     "output_type": "stream",
     "text": [
      "Total grains of wheat: 18446744073709551615\n",
      "Total weight in pounds: 2.64e+15 pounds\n"
     ]
    }
   ],
   "source": [
    "# Constants\n",
    "grains_per_pound = 1 / 7000  # Weight of one grain in pounds\n",
    "squares_on_chessboard = 64   # A standard chessboard has 64 squares\n",
    "\n",
    "# Calculate the total number of grains (sum of a geometric series)\n",
    "total_grains = 2**squares_on_chessboard - 1\n",
    "\n",
    "# Calculate the total weight in pounds\n",
    "total_weight_in_pounds = total_grains * grains_per_pound\n",
    "\n",
    "# Display the result\n",
    "print(f\"Total grains of wheat: {total_grains}\")\n",
    "print(f\"Total weight in pounds: {total_weight_in_pounds:.2e} pounds\")\n"
   ]
  },
  {
   "cell_type": "markdown",
   "metadata": {},
   "source": [
    "#### <u>Question 9"
   ]
  },
  {
   "cell_type": "markdown",
   "metadata": {},
   "source": [
    "**Write a Python program that prompts the user for two floating-point values and displays the result of the first number divided by the second, in integer only.**"
   ]
  },
  {
   "cell_type": "code",
   "execution_count": 18,
   "metadata": {},
   "outputs": [
    {
     "name": "stdin",
     "output_type": "stream",
     "text": [
      "Enter the first floating-point number:  7.2\n",
      "Enter the second floating-point number:  1.3\n"
     ]
    },
    {
     "name": "stdout",
     "output_type": "stream",
     "text": [
      "The result of 7.2 divided by 1.3 is 5 (integer only).\n"
     ]
    }
   ],
   "source": [
    "# Prompt the user for two floating-point values\n",
    "num1 = float(input(\"Enter the first floating-point number: \"))\n",
    "num2 = float(input(\"Enter the second floating-point number: \"))\n",
    "\n",
    "# Perform the division and display the result as an integer\n",
    "result = int(num1 / num2)\n",
    "\n",
    "# Display the result\n",
    "print(f\"The result of {num1} divided by {num2} is {result} (integer only).\")\n"
   ]
  },
  {
   "cell_type": "markdown",
   "metadata": {},
   "source": [
    "#### <u>Question 10"
   ]
  },
  {
   "cell_type": "markdown",
   "metadata": {},
   "source": [
    "**Use NumPy to generate a random number between 0 and 1**"
   ]
  },
  {
   "cell_type": "code",
   "execution_count": 17,
   "metadata": {},
   "outputs": [
    {
     "name": "stdout",
     "output_type": "stream",
     "text": [
      "0.13420524026873037\n"
     ]
    }
   ],
   "source": [
    "import numpy as np\n",
    "\n",
    "# Generate a random number between 0 and 1\n",
    "random_number = np.random.rand()\n",
    "\n",
    "# Display the result\n",
    "print(random_number)\n"
   ]
  },
  {
   "cell_type": "markdown",
   "metadata": {},
   "source": [
    "#### <u>Question 11"
   ]
  },
  {
   "cell_type": "markdown",
   "metadata": {},
   "source": [
    "**Create an array of 20 linearly spaced points between 0 and 1**"
   ]
  },
  {
   "cell_type": "code",
   "execution_count": 19,
   "metadata": {},
   "outputs": [
    {
     "name": "stdout",
     "output_type": "stream",
     "text": [
      "[0.         0.05263158 0.10526316 0.15789474 0.21052632 0.26315789\n",
      " 0.31578947 0.36842105 0.42105263 0.47368421 0.52631579 0.57894737\n",
      " 0.63157895 0.68421053 0.73684211 0.78947368 0.84210526 0.89473684\n",
      " 0.94736842 1.        ]\n"
     ]
    }
   ],
   "source": [
    "import numpy as np\n",
    "\n",
    "# Create an array of 20 linearly spaced points between 0 and 1\n",
    "points = np.linspace(0, 1, 20)\n",
    "\n",
    "# Display the array\n",
    "print(points)\n"
   ]
  },
  {
   "cell_type": "markdown",
   "metadata": {},
   "source": [
    "#### <u>Question 12"
   ]
  },
  {
   "cell_type": "markdown",
   "metadata": {},
   "source": [
    "**Create following array using numpy and simply sum of rows and sum of coloumns** <br>\n",
    "[[ 1,  2,  3,  4,  5],<br>\n",
    " [ 6,  7,  8,  9, 10], <br>\n",
    " [11, 12, 13, 14, 15], <br>\n",
    " [16, 17, 18, 19, 20], <br>\n",
    " [21, 22, 23, 24, 25]]"
   ]
  },
  {
   "cell_type": "code",
   "execution_count": 23,
   "metadata": {},
   "outputs": [
    {
     "name": "stdout",
     "output_type": "stream",
     "text": [
      "The array is :\n",
      "[[ 1  2  3  4  5]\n",
      " [ 6  7  8  9 10]\n",
      " [11 12 13 14 15]\n",
      " [16 17 18 19 20]\n",
      " [21 22 23 24 25]]\n",
      "the sum of rows is :[ 15  40  65  90 115]\n",
      "the sum of  is columns is: [55 60 65 70 75]\n"
     ]
    }
   ],
   "source": [
    "import numpy as np\n",
    "\n",
    "# Create the 5x5 array\n",
    "array = np.array([[1, 2, 3, 4, 5],\n",
    "                  [6, 7, 8, 9, 10],\n",
    "                  [11, 12, 13, 14, 15],\n",
    "                  [16, 17, 18, 19, 20],\n",
    "                  [21, 22, 23, 24, 25]])\n",
    "\n",
    "# Sum of rows\n",
    "sum_rows = np.sum(array, axis=1)\n",
    "\n",
    "# Sum of columns\n",
    "sum_columns = np.sum(array, axis=0)\n",
    "\n",
    "# Display the array, sum of rows and sum of columns\n",
    "print(f\"The array is :\\n{array}\")\n",
    "print(f\"the sum of rows is :{sum_rows}\")\n",
    "print(f\"the sum of  is columns is: {sum_columns}\")\n"
   ]
  },
  {
   "cell_type": "markdown",
   "metadata": {},
   "source": [
    "**Evaluate each of the following Python expressions first by hand and then verify using jupyter notebook. Assume any value of $(d1,d2,d3)$** <br>\n",
    "<b>1.</b>\t$(d1 + d2 + d3) / 3$ <br>\n",
    "<b>2.</b>\t$d1 + d2 + (d3 / 3)$<br>\n",
    "<b>3.</b>\t$3 * (d1 + d2) * (d1 - d3)$"
   ]
  },
  {
   "cell_type": "code",
   "execution_count": 27,
   "metadata": {},
   "outputs": [
    {
     "name": "stdout",
     "output_type": "stream",
     "text": [
      "20.0\n",
      "40.0\n",
      "-1800\n"
     ]
    }
   ],
   "source": [
    "d1, d2, d3 = 10, 20, 30\n",
    "\n",
    "# Expression 1\n",
    "result_1 = (d1 + d2 + d3) / 3\n",
    "print(result_1)  # Expected: 20\n",
    "\n",
    "# Expression 2\n",
    "result_2 = d1 + d2 + (d3 / 3)\n",
    "print(result_2)  # Expected: 40\n",
    "\n",
    "# Expression 3\n",
    "result_3 = 3 * (d1 + d2) * (d1 - d3)\n",
    "print(result_3)  # Expected: -1800\n"
   ]
  }
 ],
 "metadata": {
  "kernelspec": {
   "display_name": "Python 3 (ipykernel)",
   "language": "python",
   "name": "python3"
  },
  "language_info": {
   "codemirror_mode": {
    "name": "ipython",
    "version": 3
   },
   "file_extension": ".py",
   "mimetype": "text/x-python",
   "name": "python",
   "nbconvert_exporter": "python",
   "pygments_lexer": "ipython3",
   "version": "3.12.4"
  }
 },
 "nbformat": 4,
 "nbformat_minor": 4
}
