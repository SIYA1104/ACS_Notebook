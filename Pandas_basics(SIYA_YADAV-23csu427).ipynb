{
 "cells": [
  {
   "cell_type": "markdown",
   "id": "be3da767-55a7-44c2-a7eb-bc4271f48034",
   "metadata": {},
   "source": [
    "# **Basics of Pandas**"
   ]
  },
  {
   "cell_type": "markdown",
   "id": "cc4ad741-ef5a-4469-9cc7-f802886f52b2",
   "metadata": {},
   "source": [
    "Pandas in the Python package providing fast flexible and expressive Data Structure designed to make working with \"relational\" or \"level\" data with easy and intuitive"
   ]
  },
  {
   "cell_type": "markdown",
   "id": "fb03c819-9433-41d4-8f74-3b89e2a94c07",
   "metadata": {},
   "source": [
    "Here are just few of the things that pandas does well: it function for analysing ,cleaning ,explorng and manipulating data"
   ]
  },
  {
   "cell_type": "markdown",
   "id": "f921b72c-67d6-4aac-961f-37f9965ee46c",
   "metadata": {},
   "source": [
    "#### **1)Creating a Series: Series()**"
   ]
  },
  {
   "cell_type": "code",
   "execution_count": 3,
   "id": "7c9fecd1-b9b4-4320-9f12-8307056969e2",
   "metadata": {},
   "outputs": [
    {
     "name": "stdout",
     "output_type": "stream",
     "text": [
      "0    10\n",
      "1    20\n",
      "2    30\n",
      "3    40\n",
      "dtype: int64\n"
     ]
    }
   ],
   "source": [
    "import pandas as pd\n",
    "\n",
    "data = [10, 20, 30, 40]\n",
    "series = pd.Series(data)\n",
    "print(series)"
   ]
  },
  {
   "cell_type": "markdown",
   "id": "4d2cb436-0683-4d80-9512-639b2fef5a66",
   "metadata": {},
   "source": [
    "#### **2)Creating a Dataframe:DataFrame()**"
   ]
  },
  {
   "cell_type": "code",
   "execution_count": 3,
   "id": "ceb3654a-4fd7-4e7c-bb89-56da93805967",
   "metadata": {},
   "outputs": [
    {
     "name": "stdout",
     "output_type": "stream",
     "text": [
      "      Name  Age  Height\n",
      "0     Siya   21     155\n",
      "1   Saniya   19     162\n",
      "2  Devansh   12     133\n"
     ]
    }
   ],
   "source": [
    "import pandas as pd\n",
    "data={'Name':['Siya','Saniya','Devansh'],\n",
    "      'Age':[21,19,12],\n",
    "      'Height':[155,162,133]}\n",
    "\n",
    "df=pd.DataFrame(data)\n",
    "print(df)"
   ]
  },
  {
   "cell_type": "markdown",
   "id": "fa051560-3991-4950-9f04-884f6c17fa75",
   "metadata": {},
   "source": [
    "#### **3)Reading from CSV File:read_csv(file name)**"
   ]
  },
  {
   "cell_type": "code",
   "execution_count": 1,
   "id": "ebd3f5d3-a40c-4730-8e08-87922a254ab2",
   "metadata": {},
   "outputs": [
    {
     "name": "stdout",
     "output_type": "stream",
     "text": [
      "    Annual income\n",
      "0         62000.0\n",
      "1         64000.0\n",
      "2         49000.0\n",
      "3        324000.0\n",
      "4       1264000.0\n",
      "5         54330.0\n",
      "6         64000.0\n",
      "7         51000.0\n",
      "8         55000.0\n",
      "9         48000.0\n",
      "10        53000.0\n"
     ]
    }
   ],
   "source": [
    "import pandas as pd\n",
    "data =pd.read_csv('file.csv')\n",
    "print(data) #print whole file data"
   ]
  },
  {
   "cell_type": "markdown",
   "id": "0c31e5aa-0a10-4fe7-82f5-f38c5dcdd09f",
   "metadata": {},
   "source": [
    "#### **4)Using head() and tail() function**"
   ]
  },
  {
   "cell_type": "code",
   "execution_count": 2,
   "id": "7818aa16-af9a-4778-931c-e5ed8d2488e2",
   "metadata": {},
   "outputs": [
    {
     "name": "stdout",
     "output_type": "stream",
     "text": [
      "   Annual income\n",
      "0        62000.0\n",
      "1        64000.0\n",
      "2        49000.0\n",
      "3       324000.0\n",
      "4      1264000.0\n",
      "    Annual income\n",
      "6         64000.0\n",
      "7         51000.0\n",
      "8         55000.0\n",
      "9         48000.0\n",
      "10        53000.0\n"
     ]
    }
   ],
   "source": [
    "import pandas as pd\n",
    "data =pd.read_csv(('file.csv'))\n",
    "print(data.head())  # Show first 5 rows\n",
    "print(data.tail())  # Show last 5 rows"
   ]
  },
  {
   "cell_type": "markdown",
   "id": "71fb9d8f-586e-4cd4-add5-dbf744b0e84d",
   "metadata": {},
   "source": [
    "#### 5)**Reading CSV file from another folder:read_csv(path)**"
   ]
  },
  {
   "cell_type": "code",
   "execution_count": 11,
   "id": "dd4e95f1-f9d8-47ff-a4cf-27b1afade5a6",
   "metadata": {},
   "outputs": [
    {
     "name": "stdout",
     "output_type": "stream",
     "text": [
      "       Jaswinder kaur Khullar  Nokia India\n",
      "0     Gaurav Singh Chauhan    Google India\n",
      "1  Rashmita Bhowmick       Microsoft India\n",
      "2              Munwar Khan             AWS\n",
      "3            Nishant                 Zupee\n"
     ]
    }
   ],
   "source": [
    "import pandas as pd\n",
    "data=pd.read_csv((\"C:/Users/Siya Yadav/OneDrive/Desktop/practice.csv\"))\n",
    "print(data)"
   ]
  },
  {
   "cell_type": "markdown",
   "id": "b11c9ed5-de22-4744-bb42-283db5119c08",
   "metadata": {},
   "source": [
    "#### 6)**Reading Excel file:read_excel()**"
   ]
  },
  {
   "cell_type": "code",
   "execution_count": 61,
   "id": "a058f730-7fd7-4b8a-aa50-b9dfd01e8a09",
   "metadata": {},
   "outputs": [
    {
     "name": "stdout",
     "output_type": "stream",
     "text": [
      "        SL       Reg No              EMP NAME           FATHER NAME  \\\n",
      "0      1.0  ARB/001/GUR          RAJESH KUMAR          SURJIT SINGH   \n",
      "1      2.0  ARB/002/GUR         YOGESH SHARMA         RAJPAL SHARMA   \n",
      "2      3.0  ARB/003/GUR  WAKIL BAHADUR KHADKA  GOKUL BAHADUR KHADKA   \n",
      "3      4.0  ARB/004/GUR         PARVEEN KUMAR    BAL KRISHAN SHARMA   \n",
      "4      5.0  ARB/005/GUR      AFAJADDIN SARKAR     GOFARADDIN SARKAR   \n",
      "..     ...          ...                   ...                   ...   \n",
      "226  226.0          NaN                   NaN                   NaN   \n",
      "227  227.0          NaN                   NaN                   NaN   \n",
      "228  228.0          NaN                   NaN                   NaN   \n",
      "229  229.0          NaN                                         NaN   \n",
      "230  230.0          NaN                   NaN                   NaN   \n",
      "\n",
      "            DESI                D O B                D O J  LWD  \\\n",
      "0       OPS HEAD  1978-09-21 00:00:00  2019-06-01 00:00:00  NaN   \n",
      "1    OPS MANAGER  1985-06-07 00:00:00  2019-06-01 00:00:00  NaN   \n",
      "2        S/GUARD  1977-02-03 00:00:00  2019-06-10 00:00:00  NaN   \n",
      "3        S/GUARD  1980-09-22 00:00:00  2019-06-10 00:00:00  NaN   \n",
      "4        S/GUARD  1960-02-15 00:00:00  2019-06-23 00:00:00  NaN   \n",
      "..           ...                  ...                  ...  ...   \n",
      "226          NaN                  NaN                  NaN  NaN   \n",
      "227          NaN                  NaN                  NaN  NaN   \n",
      "228          NaN                  NaN                  NaN  NaN   \n",
      "229          NaN                  NaN                  NaN  NaN   \n",
      "230          NaN                  NaN                  NaN  NaN   \n",
      "\n",
      "                                   PMT ADDRESS PRESANT ADDRASS   ...   Salary  \\\n",
      "0                VILL-SILOKHRA, GUR, HR-122001              NaN  ...      NaN   \n",
      "1                VILL TATARPUR, GGN, HR-122413              NaN  ...  30000.0   \n",
      "2           DLF Ph-3, Nathupur, GGN, HR-122001              NaN  ...  11200.0   \n",
      "3     Hno-236/1, Adharsh Nagar, GGN, HR-122001              NaN  ...  11200.0   \n",
      "4    Buniadpur Kail,Dakshin Dinajpur,WB-733121              NaN  ...  11200.0   \n",
      "..                                         ...              ...  ...      ...   \n",
      "226                                        NaN              NaN  ...      NaN   \n",
      "227                                        NaN              NaN  ...      NaN   \n",
      "228                                        NaN              NaN  ...      NaN   \n",
      "229                                        NaN              NaN  ...      NaN   \n",
      "230                                        NaN              NaN  ...      NaN   \n",
      "\n",
      "       Remark   Bank Account No    IFSC Code            Bank  ESI  \\\n",
      "0      Active               NaN          NaN             NaN  NaN   \n",
      "1      Active       50391194575          NaN  ALLAHABAD BANK  NaN   \n",
      "2    RESIGNED               NaN          NaN             NaN  NaN   \n",
      "3    RESIGNED  2802500100166301  KARB0000280  KARNATAKA BANK  NaN   \n",
      "4    RESIGNED    50100269404721  HDFC0003666            HDFC  NaN   \n",
      "..        ...               ...          ...             ...  ...   \n",
      "226       NaN               NaN          NaN             NaN  NaN   \n",
      "227       NaN               NaN          NaN             NaN  NaN   \n",
      "228       NaN               NaN          NaN             NaN  NaN   \n",
      "229       NaN               NaN          NaN             NaN  NaN   \n",
      "230       NaN               NaN          NaN             NaN  NaN   \n",
      "\n",
      "                      PF NO        UAN NO REJOINED EXPERIENCE  \n",
      "0                       NaN           NaN      NaN        NaN  \n",
      "1                       NaN           NaN      NaN        NaN  \n",
      "2                       NaN           NaN      NaN        NaN  \n",
      "3                       NaN           NaN      NaN        NaN  \n",
      "4    HRFBD17472150000010075  101482844906      NaN        NaN  \n",
      "..                      ...           ...      ...        ...  \n",
      "226                     NaN           NaN      NaN        NaN  \n",
      "227                     NaN           NaN      NaN        NaN  \n",
      "228                     NaN           NaN      NaN        NaN  \n",
      "229                     NaN           NaN      NaN        NaN  \n",
      "230                     NaN           NaN      NaN        NaN  \n",
      "\n",
      "[231 rows x 26 columns]\n"
     ]
    }
   ],
   "source": [
    "import pandas as pd\n",
    "data=pd.read_excel(\"C:/Users/Siya Yadav/OneDrive/Desktop/rajesh kumar/ARB FM MASTER SHEET_2019-2021.xlsx\")\n",
    "print(data)\n",
    "#install the extension openpyxl"
   ]
  },
  {
   "cell_type": "markdown",
   "id": "8acb9084-c9db-415b-8f3d-cd9699caa0e9",
   "metadata": {},
   "source": [
    "#### **7)Writing to a CSV File:to_csv()**"
   ]
  },
  {
   "cell_type": "code",
   "execution_count": 9,
   "id": "fab8260a-2294-48be-8d93-a55fedb3cf67",
   "metadata": {},
   "outputs": [],
   "source": [
    "import pandas as pd\n",
    "data={'Name':['Siya','Saniya','Devansh'],\n",
    "      'Age':[21,19,12],\n",
    "      'Height':[155,162,133]}\n",
    "df=pd.DataFrame(data)\n",
    "df.to_csv('practice.csv', index=False)"
   ]
  },
  {
   "cell_type": "markdown",
   "id": "366c7e9c-133d-4a48-95bb-118e88651264",
   "metadata": {},
   "source": [
    "#### **8)Information of data: info()**"
   ]
  },
  {
   "cell_type": "code",
   "execution_count": 14,
   "id": "81ba5992-d525-46a4-96cb-cae4709c05e6",
   "metadata": {},
   "outputs": [
    {
     "name": "stdout",
     "output_type": "stream",
     "text": [
      "<class 'pandas.core.frame.DataFrame'>\n",
      "RangeIndex: 3 entries, 0 to 2\n",
      "Data columns (total 3 columns):\n",
      " #   Column  Non-Null Count  Dtype \n",
      "---  ------  --------------  ----- \n",
      " 0   Name    3 non-null      object\n",
      " 1   Age     3 non-null      int64 \n",
      " 2   Height  3 non-null      int64 \n",
      "dtypes: int64(2), object(1)\n",
      "memory usage: 204.0+ bytes\n",
      "None\n"
     ]
    }
   ],
   "source": [
    "print(df.info()) # Summary of dataframe"
   ]
  },
  {
   "cell_type": "markdown",
   "id": "f5d39e61-4ef9-4ad9-881d-1e89d2ae4274",
   "metadata": {},
   "source": [
    "#### **9)Describing data:describe()**"
   ]
  },
  {
   "cell_type": "code",
   "execution_count": 13,
   "id": "0e402c2e-0de4-46f7-9c57-275a25ea5895",
   "metadata": {},
   "outputs": [
    {
     "name": "stdout",
     "output_type": "stream",
     "text": [
      "             Age      Height\n",
      "count   3.000000    3.000000\n",
      "mean   17.333333  150.000000\n",
      "std     4.725816   15.132746\n",
      "min    12.000000  133.000000\n",
      "25%    15.500000  144.000000\n",
      "50%    19.000000  155.000000\n",
      "75%    20.000000  158.500000\n",
      "max    21.000000  162.000000\n"
     ]
    }
   ],
   "source": [
    "print(df.describe()) # Statistical summary"
   ]
  },
  {
   "cell_type": "markdown",
   "id": "181e561e-4df5-4bbb-b08d-d2608d6526a9",
   "metadata": {},
   "source": [
    "#### **10)Checking Shape and Columns:shape() and columns()**"
   ]
  },
  {
   "cell_type": "code",
   "execution_count": 12,
   "id": "cb6a6fe4-0f90-4d62-8db6-eb43c0307198",
   "metadata": {},
   "outputs": [
    {
     "name": "stdout",
     "output_type": "stream",
     "text": [
      "(3, 3)\n",
      "Index(['Name', 'Age', 'Height'], dtype='object')\n"
     ]
    }
   ],
   "source": [
    "print(df.shape)  # (rows, columns)\n",
    "print(df.columns)  # List of column names\n"
   ]
  },
  {
   "cell_type": "markdown",
   "id": "b0e88aff-d15b-425a-95ab-7748d21b2d31",
   "metadata": {},
   "source": [
    "#### **11)checking the null values:isnull()**"
   ]
  },
  {
   "cell_type": "code",
   "execution_count": 17,
   "id": "67a0bd64-77be-46a0-90c2-75cb9c9af0e4",
   "metadata": {},
   "outputs": [
    {
     "name": "stdout",
     "output_type": "stream",
     "text": [
      "    Name    Age  Height\n",
      "0  False  False   False\n",
      "1  False  False   False\n",
      "2  False  False   False\n",
      "Name      0\n",
      "Age       0\n",
      "Height    0\n",
      "dtype: int64\n"
     ]
    }
   ],
   "source": [
    "print(df.isnull())\n",
    "print(df.isnull().sum()) # organize columnvise null values count"
   ]
  },
  {
   "cell_type": "markdown",
   "id": "a0808976-763a-4c68-9b8f-6a7a3df32053",
   "metadata": {},
   "source": [
    "#### **12)Check duplicate value in file:duplicated()**"
   ]
  },
  {
   "cell_type": "code",
   "execution_count": 18,
   "id": "a1bf2f8b-d360-446d-99dc-924e6e25b7e1",
   "metadata": {},
   "outputs": [
    {
     "name": "stdout",
     "output_type": "stream",
     "text": [
      "0    False\n",
      "1    False\n",
      "2    False\n",
      "dtype: bool\n"
     ]
    }
   ],
   "source": [
    "print(df.duplicated())"
   ]
  },
  {
   "cell_type": "markdown",
   "id": "b483fc31-cfaa-47f4-b64f-d45c5948ee3f",
   "metadata": {},
   "source": [
    "#### **13)dropping duplicate values:drop_duplicates()**"
   ]
  },
  {
   "cell_type": "code",
   "execution_count": 23,
   "id": "b97eb4ae-69a6-43c0-89c8-0586136428ac",
   "metadata": {},
   "outputs": [
    {
     "name": "stdout",
     "output_type": "stream",
     "text": [
      "       SEQN  ALQ101  ALQ110  ALQ130  SMQ020  RIAGENDR  RIDAGEYR  RIDRETH1  \\\n",
      "0     83732     1.0     NaN     1.0       1         1        62         3   \n",
      "1     83733     1.0     NaN     6.0       1         1        53         3   \n",
      "2     83734     1.0     NaN     NaN       1         1        78         3   \n",
      "3     83735     2.0     1.0     1.0       2         2        56         3   \n",
      "4     83736     2.0     1.0     1.0       2         2        42         4   \n",
      "...     ...     ...     ...     ...     ...       ...       ...       ...   \n",
      "5730  93695     2.0     2.0     NaN       1         2        76         3   \n",
      "5731  93696     2.0     2.0     NaN       2         1        26         3   \n",
      "5732  93697     1.0     NaN     1.0       1         2        80         3   \n",
      "5733  93700     NaN     NaN     NaN       1         1        35         3   \n",
      "5734  93702     1.0     NaN     2.0       2         2        24         3   \n",
      "\n",
      "      DMDCITZN  DMDEDUC2  ...  BPXSY2  BPXDI2  BMXWT  BMXHT  BMXBMI  BMXLEG  \\\n",
      "0          1.0       5.0  ...   124.0    64.0   94.8  184.5    27.8    43.3   \n",
      "1          2.0       3.0  ...   140.0    88.0   90.4  171.4    30.8    38.0   \n",
      "2          1.0       3.0  ...   132.0    44.0   83.4  170.1    28.8    35.6   \n",
      "3          1.0       5.0  ...   134.0    68.0  109.8  160.9    42.4    38.5   \n",
      "4          1.0       4.0  ...   114.0    54.0   55.2  164.9    20.3    37.4   \n",
      "...        ...       ...  ...     ...     ...    ...    ...     ...     ...   \n",
      "5730       1.0       3.0  ...   112.0    46.0   59.1  165.8    21.5    38.2   \n",
      "5731       1.0       5.0  ...   116.0    76.0  112.1  182.2    33.8    43.4   \n",
      "5732       1.0       4.0  ...   146.0    58.0   71.7  152.2    31.0    31.3   \n",
      "5733       2.0       1.0  ...   106.0    66.0   78.2  173.3    26.0    40.3   \n",
      "5734       1.0       5.0  ...   114.0    68.0   58.3  165.0    21.4    38.2   \n",
      "\n",
      "      BMXARML  BMXARMC  BMXWAIST  HIQ210  \n",
      "0        43.6     35.9     101.1     2.0  \n",
      "1        40.0     33.2     107.9     NaN  \n",
      "2        37.0     31.0     116.5     2.0  \n",
      "3        37.7     38.3     110.1     2.0  \n",
      "4        36.0     27.2      80.4     2.0  \n",
      "...       ...      ...       ...     ...  \n",
      "5730     37.0     29.5      95.0     2.0  \n",
      "5731     41.8     42.3     110.2     2.0  \n",
      "5732     37.5     28.8       NaN     2.0  \n",
      "5733     37.5     30.6      98.9     2.0  \n",
      "5734     33.5     26.2      72.5     2.0  \n",
      "\n",
      "[5735 rows x 28 columns]\n",
      "0       False\n",
      "1       False\n",
      "2       False\n",
      "3       False\n",
      "4       False\n",
      "        ...  \n",
      "5730    False\n",
      "5731    False\n",
      "5732    False\n",
      "5733    False\n",
      "5734    False\n",
      "Length: 5735, dtype: bool\n",
      "       SEQN  ALQ101  ALQ110  ALQ130  SMQ020  RIAGENDR  RIDAGEYR  RIDRETH1  \\\n",
      "0     83732     1.0     NaN     1.0       1         1        62         3   \n",
      "3     83735     2.0     1.0     1.0       2         2        56         3   \n",
      "288   84227     NaN     NaN     NaN       7         1        36         3   \n",
      "1331  85998     1.0     NaN     2.0       9         1        80         1   \n",
      "\n",
      "      DMDCITZN  DMDEDUC2  ...  BPXSY2  BPXDI2  BMXWT  BMXHT  BMXBMI  BMXLEG  \\\n",
      "0          1.0       5.0  ...   124.0    64.0   94.8  184.5    27.8    43.3   \n",
      "3          1.0       5.0  ...   134.0    68.0  109.8  160.9    42.4    38.5   \n",
      "288        1.0       1.0  ...   100.0    54.0   61.9  173.7    20.5    41.1   \n",
      "1331       1.0       9.0  ...     NaN     NaN   79.1  164.8    29.1     NaN   \n",
      "\n",
      "      BMXARML  BMXARMC  BMXWAIST  HIQ210  \n",
      "0        43.6     35.9     101.1     2.0  \n",
      "3        37.7     38.3     110.1     2.0  \n",
      "288      36.5     26.6      79.6     NaN  \n",
      "1331      NaN      NaN       NaN     2.0  \n",
      "\n",
      "[4 rows x 28 columns]\n"
     ]
    }
   ],
   "source": [
    "import pandas as pd\n",
    "data=pd.read_csv('values.csv')\n",
    "print(data)\n",
    "print(data.duplicated())\n",
    "print(data.drop_duplicates(\"SMQ020\"))"
   ]
  },
  {
   "cell_type": "markdown",
   "id": "67fa27ea-cf82-4150-b437-4f4d393ec013",
   "metadata": {},
   "source": [
    "#### **14)Selecting Rows:(Using .loc() and .iloc())**"
   ]
  },
  {
   "cell_type": "code",
   "execution_count": 28,
   "id": "4c92ecc5-6f89-4146-a9c7-81b194dfe498",
   "metadata": {},
   "outputs": [
    {
     "name": "stdout",
     "output_type": "stream",
     "text": [
      "      Name  Age  Height\n",
      "0     Siya   21     155\n",
      "1   Saniya   19     162\n",
      "2  Devansh   12     133\n",
      "Name      Saniya\n",
      "Age           19\n",
      "Height       162\n",
      "Name: 1, dtype: object\n",
      "Name      Devansh\n",
      "Age            12\n",
      "Height        133\n",
      "Name: 2, dtype: object\n"
     ]
    }
   ],
   "source": [
    "import pandas as pd\n",
    "data=pd.read_csv(\"practice.csv\")\n",
    "print(data)\n",
    "print(df.loc[1])  # Select row by index label\n",
    "print(df.iloc[2])  # Select row by position\n"
   ]
  },
  {
   "cell_type": "markdown",
   "id": "72edcc7b-d71a-40a4-ab6a-9f9d90ba6fd9",
   "metadata": {},
   "source": [
    "#### **15)Selecting Columns**"
   ]
  },
  {
   "cell_type": "code",
   "execution_count": 31,
   "id": "ec2c0810-eecf-4bc6-bdb9-cf674fa0e861",
   "metadata": {},
   "outputs": [
    {
     "name": "stdout",
     "output_type": "stream",
     "text": [
      "0       Siya\n",
      "1     Saniya\n",
      "2    Devansh\n",
      "Name: Name, dtype: object\n",
      "      Name  Age\n",
      "0     Siya   21\n",
      "1   Saniya   19\n",
      "2  Devansh   12\n"
     ]
    }
   ],
   "source": [
    "print(df['Name'])  # Select one column\n",
    "print(df[['Name', 'Age']])  # Select multiple columns\n"
   ]
  },
  {
   "cell_type": "markdown",
   "id": "74f51650-0ad5-4ce2-90a9-784ba8477a7d",
   "metadata": {},
   "source": [
    "#### **16) Filtering the data**"
   ]
  },
  {
   "cell_type": "code",
   "execution_count": 32,
   "id": "9d898404-a827-44c9-9157-564fcf544f5e",
   "metadata": {},
   "outputs": [
    {
     "name": "stdout",
     "output_type": "stream",
     "text": [
      "     Name  Age  Height\n",
      "0    Siya   21     155\n",
      "1  Saniya   19     162\n"
     ]
    }
   ],
   "source": [
    "print(df[df['Age'] > 15])  # Select rows where Age > 15"
   ]
  },
  {
   "cell_type": "markdown",
   "id": "0e163bfe-f48e-4cd5-a39d-8651178baa26",
   "metadata": {},
   "source": [
    "#### **17)Adding new columns**"
   ]
  },
  {
   "cell_type": "code",
   "execution_count": 34,
   "id": "ce77fd2d-c518-41c5-bf49-248cb9067d0d",
   "metadata": {},
   "outputs": [
    {
     "name": "stdout",
     "output_type": "stream",
     "text": [
      "      Name  Age  Height  Salary\n",
      "0     Siya   21     155   50000\n",
      "1   Saniya   19     162   60000\n",
      "2  Devansh   12     133   70000\n"
     ]
    }
   ],
   "source": [
    "df['Salary'] = [50000, 60000, 70000]\n",
    "print(df)\n"
   ]
  },
  {
   "cell_type": "markdown",
   "id": "af89ce78-4a67-4104-b06b-8239a578a46a",
   "metadata": {},
   "source": [
    "#### **18)Updating Values**"
   ]
  },
  {
   "cell_type": "code",
   "execution_count": 37,
   "id": "161c4577-bb20-48fd-9755-ec4cfa6414f7",
   "metadata": {},
   "outputs": [
    {
     "name": "stdout",
     "output_type": "stream",
     "text": [
      "      Name  Age  Height  Salary\n",
      "0     Siya   21     155   50000\n",
      "1   Saniya   32     162   60000\n",
      "2  Devansh   12     133   70000\n"
     ]
    }
   ],
   "source": [
    "df.loc[1, 'Age'] = 32  # Update Saniya's age to 32\n",
    "print(df)"
   ]
  },
  {
   "cell_type": "markdown",
   "id": "f0e0d5b2-ff3d-4c22-abba-f63b590d8a45",
   "metadata": {},
   "source": [
    "#### **19)Dropping a Column**"
   ]
  },
  {
   "cell_type": "code",
   "execution_count": 43,
   "id": "a99271a6-c628-4d65-9743-9918f9c964e5",
   "metadata": {},
   "outputs": [
    {
     "name": "stdout",
     "output_type": "stream",
     "text": [
      "      Name  Height  Salary\n",
      "0     Siya     155   50000\n",
      "1   Saniya     162   60000\n",
      "2  Devansh     133   70000\n"
     ]
    }
   ],
   "source": [
    "df = df.drop(columns=['Age'])\n",
    "print(df)"
   ]
  },
  {
   "cell_type": "markdown",
   "id": "0cfe1940-3fd8-4966-a51e-8876da99268c",
   "metadata": {},
   "source": [
    "#### **20)Dropping a Rows**"
   ]
  },
  {
   "cell_type": "code",
   "execution_count": 46,
   "id": "f8da9c04-ee9b-4ec5-9402-f1d065d74988",
   "metadata": {},
   "outputs": [
    {
     "name": "stdout",
     "output_type": "stream",
     "text": [
      "      Name  Height  Salary\n",
      "2  Devansh     133   70000\n"
     ]
    }
   ],
   "source": [
    "df = df.drop(index=0)  # Drop row with index 1\n",
    "print(df)"
   ]
  },
  {
   "cell_type": "markdown",
   "id": "4a532231-a415-4fc6-ae26-40be4c02c009",
   "metadata": {},
   "source": [
    "#### **21) Basics statistics & Spread Dispersion**"
   ]
  },
  {
   "cell_type": "code",
   "execution_count": 60,
   "id": "6f04d60e-03a8-4a3b-a76a-a414a18d1c8a",
   "metadata": {},
   "outputs": [
    {
     "name": "stdout",
     "output_type": "stream",
     "text": [
      "      Name  Age  Height\n",
      "0     Siya   21     155\n",
      "1   Saniya   19     162\n",
      "2  Devansh   12     133\n",
      "150.0\n",
      "12\n",
      "21\n",
      "0    12\n",
      "1    19\n",
      "2    21\n",
      "Name: Age, dtype: int64\n",
      "19.0\n",
      "52\n",
      "3\n",
      "-------------------\n",
      "4.725815626252609\n",
      "22.333333333333336\n"
     ]
    }
   ],
   "source": [
    "import pandas as pd\n",
    "data=pd.read_csv(\"practice.csv\")\n",
    "print(data)\n",
    "print(data[\"Height\"].mean())\n",
    "print(data[\"Age\"].min())\n",
    "print(data[\"Age\"].max())\n",
    "print(data[\"Age\"].mode())\n",
    "print(data[\"Age\"].median())\n",
    "print(data[\"Age\"].sum())\n",
    "print(data[\"Age\"].count())\n",
    "print('-------------------')\n",
    "print(data[\"Age\"].std())\n",
    "print(data[\"Age\"].var())\n",
    "#print(data[\"Age\"].mad())\n",
    "#print(data[\"Age\"].quar(0.25))\n"
   ]
  },
  {
   "cell_type": "markdown",
   "id": "b5cc2474-d71a-4303-8c0c-ac11be855dea",
   "metadata": {},
   "source": [
    "### **FURTHERMORE WE WILL LEARN MORE IN THE UPCOMING SESSIONS!! :)**"
   ]
  }
 ],
 "metadata": {
  "kernelspec": {
   "display_name": "Python 3 (ipykernel)",
   "language": "python",
   "name": "python3"
  },
  "language_info": {
   "codemirror_mode": {
    "name": "ipython",
    "version": 3
   },
   "file_extension": ".py",
   "mimetype": "text/x-python",
   "name": "python",
   "nbconvert_exporter": "python",
   "pygments_lexer": "ipython3",
   "version": "3.12.4"
  }
 },
 "nbformat": 4,
 "nbformat_minor": 5
}
